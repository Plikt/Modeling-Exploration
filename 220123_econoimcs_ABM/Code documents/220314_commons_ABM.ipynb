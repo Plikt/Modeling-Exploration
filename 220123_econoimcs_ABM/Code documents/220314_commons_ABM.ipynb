{
 "cells": [
  {
   "cell_type": "markdown",
   "id": "f6d0ec3c",
   "metadata": {},
   "source": [
    "## Hmm... how might we model the Commons? \n",
    "3/14/2022\n",
    "\n",
    "First thoughts -\n",
    "- Go back to the \n",
    "\n",
    "3/30/2022\n",
    "- Things I want to focus on here - \n",
    "   - how can we compare it reasonably to the capitalism one? Current feedback from the capitalism one is that it is too reductionist. I am using perfectly rational actors in perfect competition. This is a bit of a simplistic framework so I'll eventually need to bring this up to a level where people are interacting in more reasonable ways. Especially bc I want this one to be more reasonable. \n",
    "1. Second - there are all sorts of considerations\n",
    "    1. How do we encode knowledge from the past season? \n",
    "    2. How do we make decisions based off of right now situations? \n",
    "    3. How do we determine changes in 'flow' of the common resource? \n",
    "    4. How do we determine changes in policy of a more top town structure v collaborative decision making by a whole group?\n",
    "    5. How do we model people behavior? \n",
    "    6. blah blah blah - I could go on for a while. \n",
    "    \n",
    "- Third my love - \n",
    "    - What do my outcomes look like? In the capitalism model this looked like - WEEEEE we're creating a graph of the distribution of wealth. But that doesn't seem particularly rich. \n",
    "    - I want to use outcomes such as - resiliency. How does the system react to perterbations (modeled by some as reductions in flow of common resource - wonder what other things could be modeled this way? And are we thinking about this in a 'flow regime' type way - ie this happens consistently, or in more a natural disaster type way? \n",
    "        - Stat 1 - speed of return to equilibrium\n",
    "        - Stat 2 - distance from equilibrium\n",
    "        - Stat 3 - return to equilibrium at all? \n",
    "        - Stat 4 - biggest perturbation able to be sustained before steady state is changed\n",
    "    - Follow up question to that question tho -> what are we measuring as the steady state? \n",
    "        - Distribution of common resource?\n",
    "        - Rawlsian - everyone above the minimum to live? \n",
    "    - Finally - (maybe) - what about moving forward/improving status for everyone? \n",
    "        - More equality? \n",
    "        - Improvement in average stuff? \n",
    "        - Modeling what 'innovation' looks like to improve efficiency as a result while you have same income, you have more disposable/other income? \n",
    "    - Finally finally - what about nm forgot what I was thinking about. Time to code then :))\n",
    "    \n",
    "    - ALSO random but - someone did this thing where they didn't attack capitalism bc it's not capitalisms fault instead they simply said centralized, decentralized. I think this is nice. I may start using this language from here on out. \n",
    "    "
   ]
  },
  {
   "cell_type": "code",
   "execution_count": null,
   "id": "1942c8c8",
   "metadata": {},
   "outputs": [],
   "source": [
    "import random as rand\n",
    "from matplotlib import pyplot as plt\n",
    "import numpy as np\n",
    "import math\n",
    "import statistics as stat\n",
    "import seaborn as sns"
   ]
  },
  {
   "cell_type": "code",
   "execution_count": null,
   "id": "e5979629",
   "metadata": {},
   "outputs": [],
   "source": [
    "class Contributor: \n",
    "    \"\"\"Used contributor instead of Agent as before bc multiple types of agents. \n",
    "    A Contributor is someone who uses the common pool resource and either must follow top down rules, or \n",
    "    self imposed rules to get to where they want to go. \n",
    "    \"\"\"\n",
    "     def __init__(self, id):\n",
    "        \"\"\"Initialize attributes\n",
    "            \n",
    "           TBU - attributes that might be helpful\n",
    "           yields = Array of past yields\n",
    "           minyield = Minimum survival capacity \n",
    "           cost = cost of creating yield \n",
    "           \n",
    "           predictions = how much capital do you think there will be? \n",
    "           \n",
    "           demand = given all above, how much capital do you need to live? \n",
    "           Negotiate?? How do we bring in the joint agreement portion? \n",
    "           Decision point - how do we determine how much 'knowledge' we want to create? \n",
    "           \n",
    "        \"\"\"\n",
    "        self.id = id"
   ]
  },
  {
   "cell_type": "code",
   "execution_count": null,
   "id": "3decbdbd",
   "metadata": {},
   "outputs": [],
   "source": [
    "class "
   ]
  }
 ],
 "metadata": {
  "kernelspec": {
   "display_name": "Python 3",
   "language": "python",
   "name": "python3"
  },
  "language_info": {
   "codemirror_mode": {
    "name": "ipython",
    "version": 3
   },
   "file_extension": ".py",
   "mimetype": "text/x-python",
   "name": "python",
   "nbconvert_exporter": "python",
   "pygments_lexer": "ipython3",
   "version": "3.8.8"
  }
 },
 "nbformat": 4,
 "nbformat_minor": 5
}
